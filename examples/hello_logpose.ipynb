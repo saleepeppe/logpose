{
 "cells": [
  {
   "cell_type": "code",
   "execution_count": 1,
   "metadata": {},
   "outputs": [],
   "source": [
    "# Imports\n",
    "import logpose as lp\n",
    "import time\n",
    "from random import random"
   ]
  },
  {
   "cell_type": "code",
   "execution_count": 2,
   "metadata": {},
   "outputs": [],
   "source": [
    "def messy_code(a):\n",
    "    time.sleep(random())\n",
    "    print('Crazy python stuff here {}'.format(a))"
   ]
  },
  {
   "cell_type": "markdown",
   "metadata": {},
   "source": [
    "The following cell was launched 7 times."
   ]
  },
  {
   "cell_type": "code",
   "execution_count": 9,
   "metadata": {},
   "outputs": [
    {
     "name": "stdout",
     "output_type": "stream",
     "text": [
      "\n",
      "Preprocessing\n",
      "\n",
      "-------------------------------------------\n",
      "Kill all the enemies...\n",
      "Crazy python stuff here 0.2169918829859364\n",
      "OK!\n",
      "-------------------------------------------\n",
      "\n",
      "-------------------------------------------\n",
      "Run in: 0.1535353660583496s\n",
      "-------------------------------------------\n",
      "\n",
      "Prototype\n",
      "\n",
      "-------------------------------------------\n",
      "Conquer the Russia...\n",
      "Crazy python stuff here 0.05283929640518781\n",
      "OK!\n",
      "-------------------------------------------\n",
      "\n",
      "-------------------------------------------\n",
      "Run in: 0.06713604927062988s\n",
      "-------------------------------------------\n",
      "\n",
      "-------------------------------------------\n",
      "Run in: 0.22170662879943848s\n",
      "-------------------------------------------\n"
     ]
    }
   ],
   "source": [
    "# Create your logpose\n",
    "my_logpose = lp.Logpose('My Simulation', 'Try to rule the world')\n",
    "# Add the route Preprocessing\n",
    "my_logpose.add_route('Preprocessing', 'Kill all the enemies')\n",
    "my_params = random()\n",
    "# Keep track of the input parameters\n",
    "my_logpose.add_parameters('Preprocessing', 'my_params', my_params)\n",
    "messy_code(my_params)\n",
    "# Close the route Preprocessing\n",
    "my_logpose.bench_it('Preprocessing')\n",
    "# Open another route\n",
    "my_logpose.add_route('Prototype', 'Conquer the Russia')\n",
    "my_params_2 = random()\n",
    "# Add a param to the new route\n",
    "my_logpose.add_parameters('Prototype', 'my_params', my_params_2)\n",
    "messy_code(my_params_2)\n",
    "# Close the route\n",
    "my_logpose.bench_it('Prototype')\n",
    "# Save the log\n",
    "my_logpose.save()"
   ]
  },
  {
   "cell_type": "code",
   "execution_count": 10,
   "metadata": {},
   "outputs": [],
   "source": [
    "# Create a history object\n",
    "history_log = lp.History()\n",
    "# Get all the logpose file list\n",
    "my_simulations = history_log.events"
   ]
  },
  {
   "cell_type": "code",
   "execution_count": 11,
   "metadata": {},
   "outputs": [
    {
     "data": {
      "text/plain": [
       "['20180409_003004_241293.yml',\n",
       " '20180409_003007_709086.yml',\n",
       " '20180409_003010_856701.yml',\n",
       " '20180409_003012_580328.yml',\n",
       " '20180409_003015_140085.yml',\n",
       " '20180409_003016_623889.yml',\n",
       " '20180409_003018_423007.yml']"
      ]
     },
     "execution_count": 11,
     "metadata": {},
     "output_type": "execute_result"
    }
   ],
   "source": [
    "my_simulations"
   ]
  },
  {
   "cell_type": "code",
   "execution_count": 12,
   "metadata": {},
   "outputs": [],
   "source": [
    "# Load a logpose file\n",
    "simulation, routes_df =  history_log.load_event(my_simulations[0], pandas = True)"
   ]
  },
  {
   "cell_type": "code",
   "execution_count": 13,
   "metadata": {},
   "outputs": [
    {
     "data": {
      "text/plain": [
       "{'description': 'Try to rule the world',\n",
       " 'name': 'My Simulation',\n",
       " 'time': 1.2579941749572754}"
      ]
     },
     "execution_count": 13,
     "metadata": {},
     "output_type": "execute_result"
    }
   ],
   "source": [
    "simulation"
   ]
  },
  {
   "cell_type": "code",
   "execution_count": 14,
   "metadata": {},
   "outputs": [
    {
     "data": {
      "text/html": [
       "<div>\n",
       "<style scoped>\n",
       "    .dataframe tbody tr th:only-of-type {\n",
       "        vertical-align: middle;\n",
       "    }\n",
       "\n",
       "    .dataframe tbody tr th {\n",
       "        vertical-align: top;\n",
       "    }\n",
       "\n",
       "    .dataframe thead th {\n",
       "        text-align: right;\n",
       "    }\n",
       "</style>\n",
       "<table border=\"1\" class=\"dataframe\">\n",
       "  <thead>\n",
       "    <tr style=\"text-align: right;\">\n",
       "      <th></th>\n",
       "      <th>description</th>\n",
       "      <th>my_params</th>\n",
       "      <th>time</th>\n",
       "    </tr>\n",
       "  </thead>\n",
       "  <tbody>\n",
       "    <tr>\n",
       "      <th>Preprocessing</th>\n",
       "      <td>Kill all the enemies</td>\n",
       "      <td>0.542139</td>\n",
       "      <td>0.588375</td>\n",
       "    </tr>\n",
       "    <tr>\n",
       "      <th>Prototype</th>\n",
       "      <td>Conquer the Russia</td>\n",
       "      <td>0.660777</td>\n",
       "      <td>0.66962</td>\n",
       "    </tr>\n",
       "  </tbody>\n",
       "</table>\n",
       "</div>"
      ],
      "text/plain": [
       "                        description my_params      time\n",
       "Preprocessing  Kill all the enemies  0.542139  0.588375\n",
       "Prototype        Conquer the Russia  0.660777   0.66962"
      ]
     },
     "execution_count": 14,
     "metadata": {},
     "output_type": "execute_result"
    }
   ],
   "source": [
    "routes_df"
   ]
  },
  {
   "cell_type": "code",
   "execution_count": 15,
   "metadata": {},
   "outputs": [],
   "source": [
    "# Compare all the logpose files\n",
    "simulations_df = history_log.compare(pandas = True)"
   ]
  },
  {
   "cell_type": "code",
   "execution_count": 16,
   "metadata": {},
   "outputs": [
    {
     "data": {
      "text/html": [
       "<div>\n",
       "<style scoped>\n",
       "    .dataframe tbody tr th:only-of-type {\n",
       "        vertical-align: middle;\n",
       "    }\n",
       "\n",
       "    .dataframe tbody tr th {\n",
       "        vertical-align: top;\n",
       "    }\n",
       "\n",
       "    .dataframe thead tr th {\n",
       "        text-align: left;\n",
       "    }\n",
       "\n",
       "    .dataframe thead tr:last-of-type th {\n",
       "        text-align: right;\n",
       "    }\n",
       "</style>\n",
       "<table border=\"1\" class=\"dataframe\">\n",
       "  <thead>\n",
       "    <tr>\n",
       "      <th></th>\n",
       "      <th colspan=\"2\" halign=\"left\">Preprocessing</th>\n",
       "      <th colspan=\"2\" halign=\"left\">Prototype</th>\n",
       "    </tr>\n",
       "    <tr>\n",
       "      <th></th>\n",
       "      <th>my_params</th>\n",
       "      <th>time</th>\n",
       "      <th>my_params</th>\n",
       "      <th>time</th>\n",
       "    </tr>\n",
       "    <tr>\n",
       "      <th>logpose</th>\n",
       "      <th></th>\n",
       "      <th></th>\n",
       "      <th></th>\n",
       "      <th></th>\n",
       "    </tr>\n",
       "  </thead>\n",
       "  <tbody>\n",
       "    <tr>\n",
       "      <th>20180409_003004_241293.yml</th>\n",
       "      <td>0.542139</td>\n",
       "      <td>0.588375</td>\n",
       "      <td>0.660777</td>\n",
       "      <td>0.669620</td>\n",
       "    </tr>\n",
       "    <tr>\n",
       "      <th>20180409_003007_709086.yml</th>\n",
       "      <td>0.542346</td>\n",
       "      <td>0.387637</td>\n",
       "      <td>0.769299</td>\n",
       "      <td>0.029844</td>\n",
       "    </tr>\n",
       "    <tr>\n",
       "      <th>20180409_003010_856701.yml</th>\n",
       "      <td>0.199405</td>\n",
       "      <td>0.889303</td>\n",
       "      <td>0.151902</td>\n",
       "      <td>0.733492</td>\n",
       "    </tr>\n",
       "    <tr>\n",
       "      <th>20180409_003012_580328.yml</th>\n",
       "      <td>0.647091</td>\n",
       "      <td>0.610473</td>\n",
       "      <td>0.963806</td>\n",
       "      <td>0.422957</td>\n",
       "    </tr>\n",
       "    <tr>\n",
       "      <th>20180409_003015_140085.yml</th>\n",
       "      <td>0.727707</td>\n",
       "      <td>0.727984</td>\n",
       "      <td>0.754925</td>\n",
       "      <td>0.865829</td>\n",
       "    </tr>\n",
       "    <tr>\n",
       "      <th>20180409_003016_623889.yml</th>\n",
       "      <td>0.281198</td>\n",
       "      <td>0.739598</td>\n",
       "      <td>0.397990</td>\n",
       "      <td>0.199870</td>\n",
       "    </tr>\n",
       "    <tr>\n",
       "      <th>20180409_003018_423007.yml</th>\n",
       "      <td>0.216992</td>\n",
       "      <td>0.153535</td>\n",
       "      <td>0.052839</td>\n",
       "      <td>0.067136</td>\n",
       "    </tr>\n",
       "  </tbody>\n",
       "</table>\n",
       "</div>"
      ],
      "text/plain": [
       "                           Preprocessing           Prototype          \n",
       "                               my_params      time my_params      time\n",
       "logpose                                                               \n",
       "20180409_003004_241293.yml      0.542139  0.588375  0.660777  0.669620\n",
       "20180409_003007_709086.yml      0.542346  0.387637  0.769299  0.029844\n",
       "20180409_003010_856701.yml      0.199405  0.889303  0.151902  0.733492\n",
       "20180409_003012_580328.yml      0.647091  0.610473  0.963806  0.422957\n",
       "20180409_003015_140085.yml      0.727707  0.727984  0.754925  0.865829\n",
       "20180409_003016_623889.yml      0.281198  0.739598  0.397990  0.199870\n",
       "20180409_003018_423007.yml      0.216992  0.153535  0.052839  0.067136"
      ]
     },
     "execution_count": 16,
     "metadata": {},
     "output_type": "execute_result"
    }
   ],
   "source": [
    "simulations_df"
   ]
  },
  {
   "cell_type": "code",
   "execution_count": null,
   "metadata": {},
   "outputs": [],
   "source": []
  }
 ],
 "metadata": {
  "kernelspec": {
   "display_name": "Python 3",
   "language": "python",
   "name": "python3"
  },
  "language_info": {
   "codemirror_mode": {
    "name": "ipython",
    "version": 3
   },
   "file_extension": ".py",
   "mimetype": "text/x-python",
   "name": "python",
   "nbconvert_exporter": "python",
   "pygments_lexer": "ipython3",
   "version": "3.6.4"
  }
 },
 "nbformat": 4,
 "nbformat_minor": 2
}
