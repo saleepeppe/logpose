{
 "cells": [
  {
   "cell_type": "code",
   "execution_count": 1,
   "metadata": {},
   "outputs": [],
   "source": [
    "import logpose as lp\n",
    "import time\n",
    "from random import random"
   ]
  },
  {
   "cell_type": "code",
   "execution_count": 2,
   "metadata": {},
   "outputs": [],
   "source": [
    "def messy_code(a):\n",
    "    time.sleep(random())\n",
    "    print('Crazy python stuff here {}'.format(a))"
   ]
  },
  {
   "cell_type": "code",
   "execution_count": 12,
   "metadata": {},
   "outputs": [
    {
     "name": "stdout",
     "output_type": "stream",
     "text": [
      "\n",
      "Preprocessing\n",
      "\n",
      "-------------------------------------------\n",
      "Kill all the enemies...\n",
      "Crazy python stuff here 0.3075229855569782\n",
      "OK!\n",
      "-------------------------------------------\n",
      "\n",
      "-------------------------------------------\n",
      "Run in: 0.6931366920471191s\n",
      "-------------------------------------------\n",
      "\n",
      "Prototype\n",
      "\n",
      "-------------------------------------------\n",
      "Conquer the Russia...\n",
      "Crazy python stuff here 0.34786660507564393\n",
      "OK!\n",
      "-------------------------------------------\n",
      "\n",
      "-------------------------------------------\n",
      "Run in: 0.4507765769958496s\n",
      "-------------------------------------------\n",
      "\n",
      "-------------------------------------------\n",
      "Run in: 1.1439132690429688s\n",
      "-------------------------------------------\n"
     ]
    }
   ],
   "source": [
    "# Create your logpose\n",
    "my_logpose = lp.Logpose('My Simulation', 'Try to rule the world')\n",
    "# Add a trace\n",
    "my_logpose.add_trace('Preprocessing', 'Kill all the enemies')\n",
    "my_params = random()\n",
    "# Keep track of your input parameters\n",
    "my_logpose.add_parameter('Preprocessing', 'my_params', my_params)\n",
    "messy_code(my_params)\n",
    "# Get some benchmarks\n",
    "my_logpose.bench_it('Preprocessing')\n",
    "my_logpose.add_trace('Prototype', 'Conquer the Russia')\n",
    "my_params_2 = random()\n",
    "my_logpose.add_parameter('Prototype', 'my_params', my_params_2)\n",
    "messy_code(my_params_2)\n",
    "my_logpose.bench_it('Prototype')\n",
    "my_logpose.bench_it()"
   ]
  },
  {
   "cell_type": "code",
   "execution_count": 13,
   "metadata": {},
   "outputs": [],
   "source": [
    "history_log = lp.History()\n",
    "my_history = history_log.history"
   ]
  },
  {
   "cell_type": "code",
   "execution_count": 14,
   "metadata": {},
   "outputs": [
    {
     "data": {
      "text/plain": [
       "['1522020948.2728286.yml',\n",
       " '1522020950.8080373.yml',\n",
       " '1522020951.9888096.yml',\n",
       " '1522020956.8953223.yml',\n",
       " '1522020958.6427019.yml',\n",
       " '1522020961.698028.yml',\n",
       " '1522020964.097278.yml',\n",
       " '1522020967.1370707.yml',\n",
       " '1522020968.400779.yml',\n",
       " '1522020970.2688308.yml']"
      ]
     },
     "execution_count": 14,
     "metadata": {},
     "output_type": "execute_result"
    }
   ],
   "source": [
    "my_history"
   ]
  },
  {
   "cell_type": "code",
   "execution_count": 15,
   "metadata": {},
   "outputs": [],
   "source": [
    "simulation, traces_df =  history_log.load_event(my_history[0], pandas = True)"
   ]
  },
  {
   "cell_type": "code",
   "execution_count": 16,
   "metadata": {},
   "outputs": [
    {
     "data": {
      "text/plain": [
       "{'description': 'Try to rule the world',\n",
       " 'name': 'My Simulation',\n",
       " 'time': 0.5444779396057129}"
      ]
     },
     "execution_count": 16,
     "metadata": {},
     "output_type": "execute_result"
    }
   ],
   "source": [
    "simulation"
   ]
  },
  {
   "cell_type": "code",
   "execution_count": 17,
   "metadata": {},
   "outputs": [
    {
     "data": {
      "text/html": [
       "<div>\n",
       "<style scoped>\n",
       "    .dataframe tbody tr th:only-of-type {\n",
       "        vertical-align: middle;\n",
       "    }\n",
       "\n",
       "    .dataframe tbody tr th {\n",
       "        vertical-align: top;\n",
       "    }\n",
       "\n",
       "    .dataframe thead th {\n",
       "        text-align: right;\n",
       "    }\n",
       "</style>\n",
       "<table border=\"1\" class=\"dataframe\">\n",
       "  <thead>\n",
       "    <tr style=\"text-align: right;\">\n",
       "      <th></th>\n",
       "      <th>description</th>\n",
       "      <th>my_params</th>\n",
       "      <th>time</th>\n",
       "    </tr>\n",
       "  </thead>\n",
       "  <tbody>\n",
       "    <tr>\n",
       "      <th>Preprocessing</th>\n",
       "      <td>Kill all the enemies</td>\n",
       "      <td>0.32922</td>\n",
       "      <td>0.13623</td>\n",
       "    </tr>\n",
       "    <tr>\n",
       "      <th>Prototype</th>\n",
       "      <td>Conquer the Russia</td>\n",
       "      <td>0.549443</td>\n",
       "      <td>0.408248</td>\n",
       "    </tr>\n",
       "  </tbody>\n",
       "</table>\n",
       "</div>"
      ],
      "text/plain": [
       "                        description my_params      time\n",
       "Preprocessing  Kill all the enemies   0.32922   0.13623\n",
       "Prototype        Conquer the Russia  0.549443  0.408248"
      ]
     },
     "execution_count": 17,
     "metadata": {},
     "output_type": "execute_result"
    }
   ],
   "source": [
    "traces_df"
   ]
  },
  {
   "cell_type": "code",
   "execution_count": null,
   "metadata": {},
   "outputs": [],
   "source": []
  }
 ],
 "metadata": {
  "kernelspec": {
   "display_name": "Python 3",
   "language": "python",
   "name": "python3"
  },
  "language_info": {
   "codemirror_mode": {
    "name": "ipython",
    "version": 3
   },
   "file_extension": ".py",
   "mimetype": "text/x-python",
   "name": "python",
   "nbconvert_exporter": "python",
   "pygments_lexer": "ipython3",
   "version": "3.6.4"
  }
 },
 "nbformat": 4,
 "nbformat_minor": 2
}
