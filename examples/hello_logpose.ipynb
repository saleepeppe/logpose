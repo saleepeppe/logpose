{
 "cells": [
  {
   "cell_type": "code",
   "execution_count": 1,
   "metadata": {},
   "outputs": [],
   "source": [
    "# Imports\n",
    "import logpose as lp\n",
    "import time\n",
    "from random import random"
   ]
  },
  {
   "cell_type": "code",
   "execution_count": 2,
   "metadata": {},
   "outputs": [],
   "source": [
    "def messy_code(a):\n",
    "    time.sleep(random())\n",
    "    print('Crazy python stuff here {}'.format(a))"
   ]
  },
  {
   "cell_type": "markdown",
   "metadata": {},
   "source": [
    "The following cell was launched 7 times."
   ]
  },
  {
   "cell_type": "code",
   "execution_count": 12,
   "metadata": {},
   "outputs": [
    {
     "name": "stdout",
     "output_type": "stream",
     "text": [
      "\n",
      "\n",
      "Preprocessing\n",
      "\n",
      "-------------------------------------------\n",
      "Kill all the enemies...\n",
      "Crazy python stuff here 0.7515269041615779\n",
      "OK!\n",
      "-------------------------------------------\n",
      "\n",
      "-------------------------------------------\n",
      "Run in: 0.45824718475341797 s\n",
      "-------------------------------------------\n",
      "\n",
      "\n",
      "Prototype\n",
      "\n",
      "-------------------------------------------\n",
      "Conquer the Russia...\n",
      "Crazy python stuff here 0.637987472742511\n",
      "OK!\n",
      "-------------------------------------------\n",
      "\n",
      "-------------------------------------------\n",
      "Run in: 0.6512420177459717 s\n",
      "-------------------------------------------\n"
     ]
    }
   ],
   "source": [
    "# Create your logpose\n",
    "my_logpose = lp.Logpose('My Simulation', 'Try to rule the world')\n",
    "# Add the route Preprocessing\n",
    "my_logpose.add_route('Preprocessing', 'Kill all the enemies')\n",
    "my_params = random()\n",
    "# Keep track of the input parameters\n",
    "my_logpose.add_parameters('Preprocessing', ('my_params', my_params))\n",
    "messy_code(my_params)\n",
    "# Close the route Preprocessing\n",
    "my_logpose.bench_it('Preprocessing')\n",
    "# Open another route\n",
    "my_logpose.add_route('Prototype', 'Conquer the Russia')\n",
    "my_params_2 = random()\n",
    "# Add a param to the new route\n",
    "my_logpose.add_parameters('Prototype', ('my_params', my_params_2))\n",
    "messy_code(my_params_2)\n",
    "# Close the route\n",
    "my_logpose.bench_it('Prototype')\n",
    "# Save the log\n",
    "my_logpose.save()"
   ]
  },
  {
   "cell_type": "code",
   "execution_count": 15,
   "metadata": {},
   "outputs": [],
   "source": [
    "# Create a history object\n",
    "history_log = lp.History('My Simulation')\n",
    "# Get all the logpose file list\n",
    "my_simulations = history_log.events"
   ]
  },
  {
   "cell_type": "code",
   "execution_count": 16,
   "metadata": {},
   "outputs": [
    {
     "data": {
      "text/plain": [
       "['20180628_232206_558963.yml', '20180628_232319_118697.yml']"
      ]
     },
     "execution_count": 16,
     "metadata": {},
     "output_type": "execute_result"
    }
   ],
   "source": [
    "my_simulations"
   ]
  },
  {
   "cell_type": "code",
   "execution_count": 17,
   "metadata": {},
   "outputs": [],
   "source": [
    "# Load a logpose file\n",
    "simulation, routes_df =  history_log.load_event(my_simulations[0], pandas = True)"
   ]
  },
  {
   "cell_type": "code",
   "execution_count": 18,
   "metadata": {},
   "outputs": [
    {
     "data": {
      "text/plain": [
       "{'description': 'Try to rule the world',\n",
       " 'name': 'My Simulation',\n",
       " 'time': 1.0765736103057861}"
      ]
     },
     "execution_count": 18,
     "metadata": {},
     "output_type": "execute_result"
    }
   ],
   "source": [
    "simulation"
   ]
  },
  {
   "cell_type": "code",
   "execution_count": 19,
   "metadata": {},
   "outputs": [
    {
     "data": {
      "text/html": [
       "<div>\n",
       "<style scoped>\n",
       "    .dataframe tbody tr th:only-of-type {\n",
       "        vertical-align: middle;\n",
       "    }\n",
       "\n",
       "    .dataframe tbody tr th {\n",
       "        vertical-align: top;\n",
       "    }\n",
       "\n",
       "    .dataframe thead th {\n",
       "        text-align: right;\n",
       "    }\n",
       "</style>\n",
       "<table border=\"1\" class=\"dataframe\">\n",
       "  <thead>\n",
       "    <tr style=\"text-align: right;\">\n",
       "      <th></th>\n",
       "      <th>description</th>\n",
       "      <th>time</th>\n",
       "    </tr>\n",
       "  </thead>\n",
       "  <tbody>\n",
       "    <tr>\n",
       "      <th>Preprocessing</th>\n",
       "      <td>Kill all the enemies</td>\n",
       "      <td>0.860577</td>\n",
       "    </tr>\n",
       "    <tr>\n",
       "      <th>Prototype</th>\n",
       "      <td>Conquer the Russia</td>\n",
       "      <td>0.215996</td>\n",
       "    </tr>\n",
       "  </tbody>\n",
       "</table>\n",
       "</div>"
      ],
      "text/plain": [
       "                        description      time\n",
       "Preprocessing  Kill all the enemies  0.860577\n",
       "Prototype        Conquer the Russia  0.215996"
      ]
     },
     "execution_count": 19,
     "metadata": {},
     "output_type": "execute_result"
    }
   ],
   "source": [
    "routes_df"
   ]
  },
  {
   "cell_type": "code",
   "execution_count": 20,
   "metadata": {},
   "outputs": [],
   "source": [
    "# Compare all the logpose files\n",
    "simulations_df = history_log.compare(pandas = True)"
   ]
  },
  {
   "cell_type": "code",
   "execution_count": 21,
   "metadata": {},
   "outputs": [
    {
     "data": {
      "text/html": [
       "<div>\n",
       "<style scoped>\n",
       "    .dataframe tbody tr th:only-of-type {\n",
       "        vertical-align: middle;\n",
       "    }\n",
       "\n",
       "    .dataframe tbody tr th {\n",
       "        vertical-align: top;\n",
       "    }\n",
       "\n",
       "    .dataframe thead tr th {\n",
       "        text-align: left;\n",
       "    }\n",
       "\n",
       "    .dataframe thead tr:last-of-type th {\n",
       "        text-align: right;\n",
       "    }\n",
       "</style>\n",
       "<table border=\"1\" class=\"dataframe\">\n",
       "  <thead>\n",
       "    <tr>\n",
       "      <th></th>\n",
       "      <th colspan=\"2\" halign=\"left\">Preprocessing</th>\n",
       "      <th colspan=\"2\" halign=\"left\">Prototype</th>\n",
       "    </tr>\n",
       "    <tr>\n",
       "      <th></th>\n",
       "      <th>my_params</th>\n",
       "      <th>time</th>\n",
       "      <th>my_params</th>\n",
       "      <th>time</th>\n",
       "    </tr>\n",
       "    <tr>\n",
       "      <th>logpose</th>\n",
       "      <th></th>\n",
       "      <th></th>\n",
       "      <th></th>\n",
       "      <th></th>\n",
       "    </tr>\n",
       "  </thead>\n",
       "  <tbody>\n",
       "    <tr>\n",
       "      <th>20180628_232206_558963.yml</th>\n",
       "      <td>NaN</td>\n",
       "      <td>0.860577</td>\n",
       "      <td>NaN</td>\n",
       "      <td>0.215996</td>\n",
       "    </tr>\n",
       "    <tr>\n",
       "      <th>20180628_232319_118697.yml</th>\n",
       "      <td>0.751527</td>\n",
       "      <td>0.458247</td>\n",
       "      <td>0.637987</td>\n",
       "      <td>0.651242</td>\n",
       "    </tr>\n",
       "  </tbody>\n",
       "</table>\n",
       "</div>"
      ],
      "text/plain": [
       "                           Preprocessing           Prototype          \n",
       "                               my_params      time my_params      time\n",
       "logpose                                                               \n",
       "20180628_232206_558963.yml           NaN  0.860577       NaN  0.215996\n",
       "20180628_232319_118697.yml      0.751527  0.458247  0.637987  0.651242"
      ]
     },
     "execution_count": 21,
     "metadata": {},
     "output_type": "execute_result"
    }
   ],
   "source": [
    "simulations_df"
   ]
  },
  {
   "cell_type": "code",
   "execution_count": null,
   "metadata": {},
   "outputs": [],
   "source": []
  }
 ],
 "metadata": {
  "kernelspec": {
   "display_name": "Python 3",
   "language": "python",
   "name": "python3"
  },
  "language_info": {
   "codemirror_mode": {
    "name": "ipython",
    "version": 3
   },
   "file_extension": ".py",
   "mimetype": "text/x-python",
   "name": "python",
   "nbconvert_exporter": "python",
   "pygments_lexer": "ipython3",
   "version": "3.6.5"
  }
 },
 "nbformat": 4,
 "nbformat_minor": 2
}
